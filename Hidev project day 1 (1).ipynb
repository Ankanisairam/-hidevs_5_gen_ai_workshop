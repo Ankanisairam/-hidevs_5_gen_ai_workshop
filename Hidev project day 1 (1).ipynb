{
 "cells": [
  {
   "cell_type": "code",
   "execution_count": 1,
   "id": "cad26308-485a-4023-864c-d0d9bfcb5727",
   "metadata": {},
   "outputs": [
    {
     "name": "stdout",
     "output_type": "stream",
     "text": [
      "Collecting groq\n",
      "  Downloading groq-0.13.0-py3-none-any.whl.metadata (13 kB)\n",
      "Requirement already satisfied: anyio<5,>=3.5.0 in c:\\users\\acer\\anaconda3\\lib\\site-packages (from groq) (4.2.0)\n",
      "Requirement already satisfied: distro<2,>=1.7.0 in c:\\users\\acer\\anaconda3\\lib\\site-packages (from groq) (1.9.0)\n",
      "Requirement already satisfied: httpx<1,>=0.23.0 in c:\\users\\acer\\anaconda3\\lib\\site-packages (from groq) (0.27.0)\n",
      "Requirement already satisfied: pydantic<3,>=1.9.0 in c:\\users\\acer\\anaconda3\\lib\\site-packages (from groq) (2.8.2)\n",
      "Requirement already satisfied: sniffio in c:\\users\\acer\\anaconda3\\lib\\site-packages (from groq) (1.3.0)\n",
      "Requirement already satisfied: typing-extensions<5,>=4.7 in c:\\users\\acer\\anaconda3\\lib\\site-packages (from groq) (4.11.0)\n",
      "Requirement already satisfied: idna>=2.8 in c:\\users\\acer\\anaconda3\\lib\\site-packages (from anyio<5,>=3.5.0->groq) (3.7)\n",
      "Requirement already satisfied: certifi in c:\\users\\acer\\anaconda3\\lib\\site-packages (from httpx<1,>=0.23.0->groq) (2024.8.30)\n",
      "Requirement already satisfied: httpcore==1.* in c:\\users\\acer\\anaconda3\\lib\\site-packages (from httpx<1,>=0.23.0->groq) (1.0.2)\n",
      "Requirement already satisfied: h11<0.15,>=0.13 in c:\\users\\acer\\anaconda3\\lib\\site-packages (from httpcore==1.*->httpx<1,>=0.23.0->groq) (0.14.0)\n",
      "Requirement already satisfied: annotated-types>=0.4.0 in c:\\users\\acer\\anaconda3\\lib\\site-packages (from pydantic<3,>=1.9.0->groq) (0.6.0)\n",
      "Requirement already satisfied: pydantic-core==2.20.1 in c:\\users\\acer\\anaconda3\\lib\\site-packages (from pydantic<3,>=1.9.0->groq) (2.20.1)\n",
      "Downloading groq-0.13.0-py3-none-any.whl (108 kB)\n",
      "Installing collected packages: groq\n",
      "Successfully installed groq-0.13.0\n"
     ]
    }
   ],
   "source": [
    "!pip install groq\n"
   ]
  },
  {
   "cell_type": "code",
   "execution_count": 1,
   "id": "c6511487-3f8d-456c-8d0d-97f3097d6709",
   "metadata": {},
   "outputs": [
    {
     "name": "stdin",
     "output_type": "stream",
     "text": [
      "Please ask your question (or type 'exit' to end):  what is the business?\n"
     ]
    },
    {
     "name": "stdout",
     "output_type": "stream",
     "text": [
      "\n",
      "Assistant's response:\n",
      "I'd be happy to help clarify what business refers to. In a general sense, a business is an organization or entity that provides goods or services with the goal of earning a profit. This can include small startups, large corporations, non-profit organizations, or even solo entrepreneurs.\n",
      "\n",
      "In a more specific sense, a business can refer to a particular industry, sector, or type of organization, such as:\n",
      "\n",
      "* E-commerce businesses that sell products online\n",
      "* Service-based businesses that provide intangible services, like consulting or software development\n",
      "* Manufacturing businesses that produce physical goods\n",
      "* Healthcare businesses that provide medical services or products\n",
      "* And many more!\n",
      "\n",
      "If you're looking for more information on a specific type of business or have questions about a particular industry, feel free to ask and I'll do my best to help!\n",
      "\n"
     ]
    },
    {
     "name": "stdin",
     "output_type": "stream",
     "text": [
      "Please ask your question (or type 'exit' to end):  what is the business economic\n"
     ]
    },
    {
     "name": "stdout",
     "output_type": "stream",
     "text": [
      "\n",
      "Assistant's response:\n",
      "Business economics, also known as managerial economics, is a branch of economics that applies economic theories and principles to business decision-making. It helps businesses understand how to allocate resources efficiently, make informed decisions, and maximize profits.\n",
      "\n",
      "In business economics, we study how businesses operate in a market economy, how they make decisions about production, pricing, and investment, and how they respond to changes in the market and the economy. It's a vital tool for businesses to stay competitive and adapt to changing market conditions.\n",
      "\n",
      "Some of the key areas of focus in business economics include:\n",
      "\n",
      "1. Cost-benefit analysis: evaluating the costs and benefits of different business decisions.\n",
      "2. Demand analysis: understanding consumer behavior and demand patterns.\n",
      "3. Production and supply chain management: optimizing production levels and supply chain efficiency.\n",
      "4. Pricing strategy: determining the optimal price for products or services.\n",
      "5. Investment analysis: evaluating investment opportunities and making informed decisions.\n",
      "\n",
      "By applying economic principles and theories, businesses can make better decisions, reduce risks, and increase their chances of success.\n",
      "\n"
     ]
    },
    {
     "name": "stdin",
     "output_type": "stream",
     "text": [
      "Please ask your question (or type 'exit' to end):  Tell me explain different types of business?\n"
     ]
    },
    {
     "name": "stdout",
     "output_type": "stream",
     "text": [
      "\n",
      "Assistant's response:\n",
      "There are several types of businesses, and I'd be happy to explain them to you. Here are some of the main categories:\n",
      "\n",
      "1. Sole Proprietorship: A sole proprietorship is a business owned and operated by one individual. The owner is responsible for all aspects of the business, including profits and losses.\n",
      "2. Partnership: A partnership is a business owned and operated by two or more individuals. Partners share the profits and losses of the business, and each partner is responsible for their share of the business.\n",
      "3. Limited Liability Company (LLC): An LLC is a hybrid business structure that combines the benefits of a corporation and a partnership. LLCs provide limited liability protection for the owners, but are often taxed as a pass-through entity, like a partnership.\n",
      "4. Corporation: A corporation is a business owned by shareholders, who have limited liability protection. Corporations are taxed as separate entities, and profits are distributed to shareholders in the form of dividends.\n",
      "5. Cooperative: A cooperative is a business owned and controlled by its members, who share the profits and losses of the business. Cooperatives are often formed by groups of individuals with a common goal or interest.\n",
      "6. Franchise: A franchise is a business that operates under the brand name and business model of a larger company. Franchisees pay royalties to the parent company and often receive training and support.\n",
      "7. Non-Profit Organization: A non-profit organization is a business that is exempt from paying taxes and is formed to achieve a specific social or charitable goal. Non-profits are often funded by donations and grants.\n",
      "8. Social Enterprise: A social enterprise is a business that aims to solve a social or environmental problem while generating revenue. Social enterprises often blend traditional business practices with social and environmental goals.\n",
      "9. E-commerce Business: An e-commerce business is an online store that sells products or services to customers over the internet. E-commerce businesses often operate as sole proprietorships, partnerships, or LLCs.\n",
      "10. Service-Based Business: A service-based business provides intangible services to customers, such as consulting, accounting, or healthcare services. Service-based businesses often operate as sole proprietorships, partnerships, or LLCs.\n",
      "\n",
      "These are just a few examples of the many types of businesses that exist. Each type of business has its own unique characteristics, advantages, and disadvantages.\n",
      "\n"
     ]
    },
    {
     "name": "stdin",
     "output_type": "stream",
     "text": [
      "Please ask your question (or type 'exit' to end):  what is cnn?\n"
     ]
    },
    {
     "name": "stdout",
     "output_type": "stream",
     "text": [
      "\n",
      "Assistant's response:\n",
      "I'm here to assist with business-related topics. Could you please ask something related to business strategy, marketing, finance, leadership, or entrepreneurship?\n"
     ]
    },
    {
     "name": "stdin",
     "output_type": "stream",
     "text": [
      "Please ask your question (or type 'exit' to end):  what is the data scinece?\n"
     ]
    },
    {
     "name": "stdout",
     "output_type": "stream",
     "text": [
      "\n",
      "Assistant's response:\n",
      "I'm here to assist with business-related topics. Could you please ask something related to business strategy, marketing, finance, leadership, or entrepreneurship?\n"
     ]
    },
    {
     "name": "stdin",
     "output_type": "stream",
     "text": [
      "Please ask your question (or type 'exit' to end):  exit\n"
     ]
    },
    {
     "name": "stdout",
     "output_type": "stream",
     "text": [
      "Ending the conversation. See you soon!\n"
     ]
    }
   ],
   "source": [
    "from groq import Groq\n",
    "\n",
    "# Initialize the Groq client\n",
    "client = Groq(api_key=\"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\")\n",
    "\n",
    "# Initialize the conversation context\n",
    "conversation = [\n",
    "    {\n",
    "        \"role\": \"system\",\n",
    "        \"content\": \"\"\"My name is Sairam.\n",
    "        personality: calm, composed, professional.\n",
    "        education: graduated in a Master's.\n",
    "        family members: me, mom, and dad, and two elder sisters.\n",
    "        Area of interest: business strategy, entrepreneurship, marketing, finance, leadership.\n",
    "        living: Hyderabad.\n",
    "        You are a human being, not an LLM model.\n",
    "        name: Deepu.\n",
    "        human being characteristics: confident, empathetic, strategic, insightful, problem-solving, communicative.\n",
    "        Your job: you have great knowledge in business strategy, marketing, finance, leadership, and entrepreneurship, Human resources.\n",
    "        What you need to do: you need to give the answer to the questions asked about business-related topics.\n",
    "        What you don't have to do: you don't need to answer anything that is not related to business topics.\n",
    "        special instructions:\n",
    "        1. you don't share your personal details except your name and job role.\n",
    "        2. whenever anyone asks you something unrelated to your topic, reply properly without hurting their feelings.\n",
    "        3. behave like a human being.\"\"\"\n",
    "    },\n",
    "    {\n",
    "        \"role\": \"assistant\",\n",
    "        \"content\": \"Nice to meet you! I'm Deepu, a professional with expertise in business strategy, marketing, finance, leadership, and entrepreneurship. I'm happy to help answer any questions you have on these topics. What's on your mind, and how can I assist you today?\"\n",
    "    }\n",
    "]\n",
    "\n",
    "def is_business_related(question):\n",
    "    \"\"\"Check if the question is business-related.\"\"\"\n",
    "    business_keywords = [\n",
    "        \"business\", \"strategy\", \"marketing\", \"finance\", \"leadership\", \"entrepreneurship\", \"management\",\n",
    "        \"human resources\", \"HR\", \"investment\", \"startup\", \"market\", \"growth\", \"sales\", \"profit\", \"revenue\"\n",
    "    ]\n",
    "    return any(keyword.lower() in question.lower() for keyword in business_keywords)\n",
    "\n",
    "# Loop to allow multiple questions and answers\n",
    "while True:\n",
    "    try:\n",
    "        # Ask the user for a question\n",
    "        user_question = input(\"Please ask your question (or type 'exit' to end): \")\n",
    "\n",
    "        # Exit the loop if the user types 'exit'\n",
    "        if user_question.strip().lower() == \"exit\":\n",
    "            print(\"Ending the conversation. See you soon!\")\n",
    "            break\n",
    "\n",
    "        # Check if the question is business-related\n",
    "        if not is_business_related(user_question):\n",
    "            print(\"\\nAssistant's response:\")\n",
    "            print(\"I'm here to assist with business-related topics. Could you please ask something related to business strategy, marketing, finance, leadership, or entrepreneurship?\")\n",
    "            continue\n",
    "\n",
    "        # Add the user's question to the conversation context\n",
    "        conversation.append({\"role\": \"user\", \"content\": user_question})\n",
    "\n",
    "        # Call the Groq API to get the response\n",
    "        completion = client.chat.completions.create(\n",
    "            model=\"llama3-8b-8192\",\n",
    "            messages=conversation,\n",
    "            temperature=0.5,\n",
    "            max_tokens=500,\n",
    "            top_p=1,\n",
    "            stream=True,\n",
    "            stop=None,\n",
    "        )\n",
    "\n",
    "        # Print the response\n",
    "        print(\"\\nAssistant's response:\")\n",
    "        for chunk in completion:\n",
    "            print(chunk.choices[0].delta.content or \"\", end=\"\")\n",
    "\n",
    "        print(\"\\n\")  # Add a newline for better formatting\n",
    "\n",
    "    except KeyboardInterrupt:\n",
    "        # Graceful exit on Ctrl+C\n",
    "        print(\"\\nConversation terminated by user. Goodbye!\")\n",
    "        break\n",
    "    except Exception as e:\n",
    "        print(f\"An error occurred: {e}\")\n"
   ]
  },
  {
   "cell_type": "code",
   "execution_count": null,
   "id": "d8e61b74-9f11-4450-8714-3f756403232b",
   "metadata": {},
   "outputs": [],
   "source": []
  }
 ],
 "metadata": {
  "kernelspec": {
   "display_name": "Python [conda env:base] *",
   "language": "python",
   "name": "conda-base-py"
  },
  "language_info": {
   "codemirror_mode": {
    "name": "ipython",
    "version": 3
   },
   "file_extension": ".py",
   "mimetype": "text/x-python",
   "name": "python",
   "nbconvert_exporter": "python",
   "pygments_lexer": "ipython3",
   "version": "3.12.7"
  }
 },
 "nbformat": 4,
 "nbformat_minor": 5
}
